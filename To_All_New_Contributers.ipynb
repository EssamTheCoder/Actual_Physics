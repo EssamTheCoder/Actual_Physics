{
 "cells": [
  {
   "cell_type": "code",
   "execution_count": null,
   "id": "2d4352d6",
   "metadata": {},
   "outputs": [],
   "source": [
    "#The template for function documentation\n",
    "\n",
    "#Anything in {curly braces} is descriptions an what each part does\n",
    "\n",
    "\"\"\"\n",
    "{All indendations are neccasary}\n",
    "<h1>Function Name/h1> {The function name, with spaces for underscores}\n",
    "\n",
    "<h2>Purpose</h2>\n",
    "A basic summary of what the function does\n",
    "\n",
    "<h2>Input(s)</h2> {Normally, you'd put Input if there's 1 input; Inputs for more than 1}\n",
    "    <b>input_1</b> (type): why it exists\n",
    "    <b>input_2</b> (type): why it exists\n",
    "\n",
    "<h2>Output(s)</h2> {Normally, you'd put Output if there's 1 output; Outputs for more than 1 (e.g. it returns an error statement if the values are invalid)}\n",
    "    {This for 1 output}\n",
    "        returns (whatever it returns described simply)\n",
    "\n",
    "    {This is for more than 1 output}\n",
    "    If (condition, e.g. all inputs valid):\n",
    "        what the function returns if that condition is valid, in simple terms\n",
    "    \n",
    "    If (other condition, e.g. one of the units is i)\n",
    "    \"\"\""
   ]
  }
 ],
 "metadata": {
  "language_info": {
   "name": "python"
  }
 },
 "nbformat": 4,
 "nbformat_minor": 5
}
